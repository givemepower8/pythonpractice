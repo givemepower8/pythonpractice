{
 "cells": [
  {
   "cell_type": "code",
   "execution_count": 1,
   "metadata": {
    "collapsed": true
   },
   "outputs": [
    {
     "name": "stdout",
     "output_type": "stream",
     "text": [
      "win32\n3.7.0 (v3.7.0:1bf9cc5093, Jun 27 2018, 04:06:47) [MSC v.1914 32 bit (Intel)]\nenviron({'ALLUSERSPROFILE': 'C:\\\\ProgramData', 'APPDATA': 'C:\\\\Users\\\\wangl\\\\AppData\\\\Roaming', 'COMMONPROGRAMFILES': 'C:\\\\Program Files (x86)\\\\Common Files', 'COMMONPROGRAMFILES(X86)': 'C:\\\\Program Files (x86)\\\\Common Files', 'COMMONPROGRAMW6432': 'C:\\\\Program Files\\\\Common Files', 'COMPUTERNAME': 'ACERASPIRE', 'COMSPEC': 'C:\\\\WINDOWS\\\\system32\\\\cmd.exe', 'DRIVERDATA': 'C:\\\\Windows\\\\System32\\\\Drivers\\\\DriverData', 'FPS_BROWSER_APP_PROFILE_STRING': 'Internet Explorer', 'FPS_BROWSER_USER_PROFILE_STRING': 'Default', 'HOMEDRIVE': 'C:', 'HOMEPATH': '\\\\Users\\\\wangl', 'LOCALAPPDATA': 'C:\\\\Users\\\\wangl\\\\AppData\\\\Local', 'LOGONSERVER': '\\\\\\\\ACERASPIRE', 'NUMBER_OF_PROCESSORS': '8', 'ONEDRIVE': 'D:\\\\OneDrive', 'OS': 'Windows_NT', 'PATH': 'C:\\\\Program Files (x86)\\\\Common Files\\\\Oracle\\\\Java\\\\javapath;C:\\\\ProgramData\\\\Oracle\\\\Java\\\\javapath;C:\\\\Program Files (x86)\\\\Intel\\\\iCLS Client\\\\;C:\\\\Program Files\\\\Intel\\\\iCLS Client\\\\;C:\\\\Windows\\\\system32;C:\\\\Windows;C:\\\\Windows\\\\System32\\\\Wbem;C:\\\\Windows\\\\System32\\\\WindowsPowerShell\\\\v1.0\\\\;C:\\\\Program Files\\\\Intel\\\\WiFi\\\\bin\\\\;C:\\\\Program Files\\\\Common Files\\\\Intel\\\\WirelessCommon\\\\;C:\\\\Program Files (x86)\\\\NVIDIA Corporation\\\\PhysX\\\\Common;C:\\\\Program Files (x86)\\\\Intel\\\\Intel(R) Management Engine Components\\\\DAL;C:\\\\Program Files\\\\Intel\\\\Intel(R) Management Engine Components\\\\DAL;C:\\\\Program Files (x86)\\\\Intel\\\\Intel(R) Management Engine Components\\\\IPT;C:\\\\Program Files\\\\Intel\\\\Intel(R) Management Engine Components\\\\IPT;C:\\\\WINDOWS\\\\system32;C:\\\\WINDOWS;C:\\\\WINDOWS\\\\System32\\\\Wbem;C:\\\\WINDOWS\\\\System32\\\\WindowsPowerShell\\\\v1.0\\\\;C:\\\\Program Files\\\\dotnet\\\\;C:\\\\Program Files\\\\Microsoft SQL Server\\\\130\\\\Tools\\\\Binn\\\\;C:\\\\Program Files\\\\nodejs\\\\;C:\\\\WINDOWS\\\\System32\\\\OpenSSH\\\\;D:\\\\Program Files\\\\Microsoft VS Code\\\\bin;C:\\\\Program Files\\\\Git\\\\cmd;C:\\\\Users\\\\wangl\\\\AppData\\\\Local\\\\Microsoft\\\\WindowsApps;C:\\\\Users\\\\wangl\\\\AppData\\\\Local\\\\Programs\\\\Fiddler;C:\\\\Users\\\\wangl\\\\AppData\\\\Roaming\\\\npm;D:\\\\Program Files\\\\Microsoft VS Code\\\\bin;C:\\\\Users\\\\wangl\\\\AppData\\\\Local\\\\GitHubDesktop\\\\bin;C:\\\\Users\\\\wangl\\\\AppData\\\\Local\\\\Microsoft\\\\WindowsApps;;C:\\\\Users\\\\wangl\\\\AppData\\\\Local\\\\Programs\\\\Microsoft VS Code\\\\bin;D:\\\\GitHub\\\\givemepower8\\\\pythonpractice\\\\venv\\\\Scripts;D:\\\\GitHub\\\\givemepower8\\\\pythonpractice\\\\venv\\\\lib\\\\site-packages\\\\numpy\\\\.libs;D:\\\\GitHub\\\\givemepower8\\\\pythonpractice\\\\venv\\\\lib\\\\site-packages\\\\numpy\\\\.libs', 'PATHEXT': '.COM;.EXE;.BAT;.CMD;.VBS;.VBE;.JS;.JSE;.WSF;.WSH;.MSC', 'PROCESSOR_ARCHITECTURE': 'x86', 'PROCESSOR_ARCHITEW6432': 'AMD64', 'PROCESSOR_IDENTIFIER': 'Intel64 Family 6 Model 158 Stepping 9, GenuineIntel', 'PROCESSOR_LEVEL': '6', 'PROCESSOR_REVISION': '9e09', 'PROGRAMDATA': 'C:\\\\ProgramData', 'PROGRAMFILES': 'C:\\\\Program Files (x86)', 'PROGRAMFILES(X86)': 'C:\\\\Program Files (x86)', 'PROGRAMW6432': 'C:\\\\Program Files', 'PROMPT': '(venv) $P$G', 'PSMODULEPATH': 'C:\\\\Program Files\\\\WindowsPowerShell\\\\Modules;C:\\\\WINDOWS\\\\system32\\\\WindowsPowerShell\\\\v1.0\\\\Modules', 'PUBLIC': 'C:\\\\Users\\\\Public', 'PYCHARM_EP_DIST': 'ipython', 'PYCHARM_EP_NAME': 'ipython', 'PYCHARM_HOSTED': '1', 'PYCHARM_MATPLOTLIB_PORT': '56680', 'PYTHONIOENCODING': 'UTF-8', 'PYTHONPATH': 'D:\\\\Program Files\\\\JetBrains\\\\PyCharm 2018.2.2\\\\helpers\\\\pycharm_matplotlib_backend;D:\\\\GitHub\\\\givemepower8\\\\pythonpractice', 'PYTHONUNBUFFERED': '1', 'SESSIONNAME': 'Console', 'SYSTEMDRIVE': 'C:', 'SYSTEMROOT': 'C:\\\\WINDOWS', 'TEMP': 'C:\\\\Users\\\\wangl\\\\AppData\\\\Local\\\\Temp', 'TMP': 'C:\\\\Users\\\\wangl\\\\AppData\\\\Local\\\\Temp', 'USERDOMAIN': 'ACERASPIRE', 'USERDOMAIN_ROAMINGPROFILE': 'ACERASPIRE', 'USERNAME': 'wangl', 'USERPROFILE': 'C:\\\\Users\\\\wangl', 'VIRTUAL_ENV': 'D:\\\\GitHub\\\\givemepower8\\\\pythonpractice\\\\venv', 'WINDIR': 'C:\\\\WINDOWS', '_OLD_VIRTUAL_PATH': 'C:\\\\Program Files (x86)\\\\Common Files\\\\Oracle\\\\Java\\\\javapath;C:\\\\ProgramData\\\\Oracle\\\\Java\\\\javapath;C:\\\\Program Files (x86)\\\\Intel\\\\iCLS Client\\\\;C:\\\\Program Files\\\\Intel\\\\iCLS Client\\\\;C:\\\\Windows\\\\system32;C:\\\\Windows;C:\\\\Windows\\\\System32\\\\Wbem;C:\\\\Windows\\\\System32\\\\WindowsPowerShell\\\\v1.0\\\\;C:\\\\Program Files\\\\Intel\\\\WiFi\\\\bin\\\\;C:\\\\Program Files\\\\Common Files\\\\Intel\\\\WirelessCommon\\\\;C:\\\\Program Files (x86)\\\\NVIDIA Corporation\\\\PhysX\\\\Common;C:\\\\Program Files (x86)\\\\Intel\\\\Intel(R) Management Engine Components\\\\DAL;C:\\\\Program Files\\\\Intel\\\\Intel(R) Management Engine Components\\\\DAL;C:\\\\Program Files (x86)\\\\Intel\\\\Intel(R) Management Engine Components\\\\IPT;C:\\\\Program Files\\\\Intel\\\\Intel(R) Management Engine Components\\\\IPT;C:\\\\WINDOWS\\\\system32;C:\\\\WINDOWS;C:\\\\WINDOWS\\\\System32\\\\Wbem;C:\\\\WINDOWS\\\\System32\\\\WindowsPowerShell\\\\v1.0\\\\;C:\\\\Program Files\\\\dotnet\\\\;C:\\\\Program Files\\\\Microsoft SQL Server\\\\130\\\\Tools\\\\Binn\\\\;C:\\\\Program Files\\\\nodejs\\\\;C:\\\\WINDOWS\\\\System32\\\\OpenSSH\\\\;D:\\\\Program Files\\\\Microsoft VS Code\\\\bin;C:\\\\Program Files\\\\Git\\\\cmd;C:\\\\Users\\\\wangl\\\\AppData\\\\Local\\\\Microsoft\\\\WindowsApps;C:\\\\Users\\\\wangl\\\\AppData\\\\Local\\\\Programs\\\\Fiddler;C:\\\\Users\\\\wangl\\\\AppData\\\\Roaming\\\\npm;D:\\\\Program Files\\\\Microsoft VS Code\\\\bin;C:\\\\Users\\\\wangl\\\\AppData\\\\Local\\\\GitHubDesktop\\\\bin;C:\\\\Users\\\\wangl\\\\AppData\\\\Local\\\\Microsoft\\\\WindowsApps;;C:\\\\Users\\\\wangl\\\\AppData\\\\Local\\\\Programs\\\\Microsoft VS Code\\\\bin', '_OLD_VIRTUAL_PROMPT': '$P$G', 'JPY_INTERRUPT_EVENT': '556', 'IPY_INTERRUPT_EVENT': '556', 'JPY_PARENT_PID': '1640', 'TERM': 'xterm-color', 'CLICOLOR': '1', 'PAGER': 'cat', 'GIT_PAGER': 'cat', 'MPLBACKEND': 'module://ipykernel.pylab.backend_inline'})\nnt\n"
     ]
    }
   ],
   "source": [
    "import sys\n",
    "import os\n",
    "\n",
    "print(sys.platform)\n",
    "print(sys.version)\n",
    "\n",
    "print(os.environ)\n",
    "print(os.name)"
   ]
  },
  {
   "cell_type": "code",
   "execution_count": null,
   "metadata": {},
   "outputs": [],
   "source": []
  }
 ],
 "metadata": {
  "kernelspec": {
   "display_name": "Python 2",
   "language": "python",
   "name": "python2"
  },
  "language_info": {
   "codemirror_mode": {
    "name": "ipython",
    "version": 2
   },
   "file_extension": ".py",
   "mimetype": "text/x-python",
   "name": "python",
   "nbconvert_exporter": "python",
   "pygments_lexer": "ipython2",
   "version": "2.7.6"
  }
 },
 "nbformat": 4,
 "nbformat_minor": 0
}
